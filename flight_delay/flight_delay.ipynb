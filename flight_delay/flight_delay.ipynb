{
 "cells": [
  {
   "cell_type": "markdown",
   "id": "54fdcbba",
   "metadata": {},
   "source": [
    "# Analisa Penyebab Keterlambatan Pesawat "
   ]
  },
  {
   "cell_type": "markdown",
   "id": "f1d35f61",
   "metadata": {},
   "source": [
    "Di Notebook ini, kita akan menganalisis data penyebab keterlambatan pesawat berdasarkan waktu, bandara dan maskapai. Data yang diambil ialah data keterlambatan pesawat pada tahun 2017 hingga 2022 yang berasal dari Bureau of Transportation Statistics (BTS). kita akan mencoba menjawab beberapa pertanyaan berikut;\n",
    "<ul>\n",
    "    <li>Maskapai mana yang memiliki penerbangan yang paling banyak?</li>\n",
    "    <li>Kota mana yang memiliki penerbangan yang paling banyak?</li>\n",
    "    <li>Kota mana yang lebih sering terlambat? </li>\n",
    "    <li>Kota mana yang memiliki kemungkinan terlambat lebih besar?</li>\n",
    "    <li>Kapan Penerbangan di Amerika mengalami peek season?</li>\n",
    "    <li>Di waktu kapan penerbangan di Amerika mengalami keterlambatan terbesar?</li>\n",
    "    <li>Kota dan maskapai mana yang memiliki waktu terlambat paling lama dalam waktu menit? </li>\n",
    "<ul> "
   ]
  },
  {
   "cell_type": "markdown",
   "id": "7543218e",
   "metadata": {},
   "source": [
    "### Import Libraries"
   ]
  },
  {
   "cell_type": "code",
   "execution_count": 1,
   "id": "a2f3d7e4",
   "metadata": {},
   "outputs": [],
   "source": [
    "import pandas as pd\n",
    "import numpy as np\n",
    "\n",
    "import seaborn as sns\n",
    "import matplotlib.pyplot as plt\n",
    "\n"
   ]
  },
  {
   "cell_type": "markdown",
   "id": "a61444cb",
   "metadata": {},
   "source": [
    "### Data Preparation"
   ]
  },
  {
   "cell_type": "code",
   "execution_count": 2,
   "id": "85c6c5f7",
   "metadata": {},
   "outputs": [],
   "source": [
    "df = pd.read_csv('Airline_Delay_Cause.csv')"
   ]
  },
  {
   "cell_type": "code",
   "execution_count": 3,
   "id": "d99bf5ea",
   "metadata": {},
   "outputs": [
    {
     "name": "stdout",
     "output_type": "stream",
     "text": [
      "<class 'pandas.core.frame.DataFrame'>\n",
      "RangeIndex: 101315 entries, 0 to 101314\n",
      "Data columns (total 21 columns):\n",
      " #   Column               Non-Null Count   Dtype  \n",
      "---  ------               --------------   -----  \n",
      " 0   year                 101315 non-null  int64  \n",
      " 1   month                101315 non-null  int64  \n",
      " 2   carrier              101315 non-null  object \n",
      " 3   carrier_name         101315 non-null  object \n",
      " 4   airport              101315 non-null  object \n",
      " 5   airport_name         101315 non-null  object \n",
      " 6   arr_flights          101157 non-null  float64\n",
      " 7   arr_del15            100960 non-null  float64\n",
      " 8   carrier_ct           101157 non-null  float64\n",
      " 9   weather_ct           101157 non-null  float64\n",
      " 10  nas_ct               101157 non-null  float64\n",
      " 11  security_ct          101157 non-null  float64\n",
      " 12  late_aircraft_ct     101157 non-null  float64\n",
      " 13  arr_cancelled        101157 non-null  float64\n",
      " 14  arr_diverted         101157 non-null  float64\n",
      " 15  arr_delay            101157 non-null  float64\n",
      " 16  carrier_delay        101157 non-null  float64\n",
      " 17  weather_delay        101157 non-null  float64\n",
      " 18  nas_delay            101157 non-null  float64\n",
      " 19  security_delay       101157 non-null  float64\n",
      " 20  late_aircraft_delay  101157 non-null  float64\n",
      "dtypes: float64(15), int64(2), object(4)\n",
      "memory usage: 16.2+ MB\n"
     ]
    }
   ],
   "source": [
    "df.info()"
   ]
  },
  {
   "cell_type": "markdown",
   "id": "a92a38d1",
   "metadata": {},
   "source": [
    "### Informasi Pada Data"
   ]
  },
  {
   "cell_type": "markdown",
   "id": "91821832",
   "metadata": {},
   "source": [
    "Data yang ada di dataset ini sepertinya cukup lengkap, meskipun ada perbedaan jumlah yang tidak terlalu signifikan seperti pada kolom arr_del15, lalu disini kita juga memiliki 3 nilai baris. Berikut penjelasan pada kolom; <br>\n",
    "\n",
    "\n",
    "year = Tahun pada data diambil.<br>\n",
    "month = Bulan pada data diambil.<br>\n",
    "carrier = Kode Maskapai,<br>\n",
    "carrier_name = Nama Maskapai.<br>\n",
    "airport = Kode Airport.<br>\n",
    "airport_name = Nama pada Airport.<br>\n",
    "arr_flight = Jumlah pada penerbangan yang tiba di Airport.<br>\n",
    "arr_del15 = Jumlah penerbangan yang terlambat lebih dari 15 menit.<br>\n",
    "carrier_ct = Jumlah penerbangan yang terlambat karena maskapai udara.<br>\n",
    "weather_ct = jumlah Penerbangan yang terlambat karena faktor cuaca.<br>\n",
    "nas_ct = jumlah penerbangan yang terlambat karena National Aviation System (Seperti trafik penerbangan yang tinggi).<br>\n",
    "security_ct = Jumlah penerbang yang terlambat karena melanggar keamanan.<br>\n",
    "late_aircraft_ct = Jumlah penerbangan yang terlambat karena penerbangan yang lain tertunda karena menggunakan pesawat yang sama.<br>\n",
    "arr_canceled = Jumlah penerbangan yang dibatalkan.<br>\n",
    "arr_diverted = Jumlah penerbangan yang dialihkan.<br>\n",
    "arr_delay = Total waktu (Menit) penerbangan yang terlambat.<br>\n",
    "carrier_delay = Total waktu (Menit) keterlambatan karena maskapai.<br>\n",
    "weather_delay = Total waktu (Menit) keterlambatan karena cuaca yang buruk.<br>\n",
    "nas_delay = Total waktu (Menit) keterlambatan karena National Aviation System.<br>\n",
    "security_delay = Total Waktu (Menit) Keterlambatan karena masalah keamanan.<br>\n",
    "late_aircraft_delay = Total waktu (Menit) keterlambatan karena penerbangan sebelumnya yang dipesawat terlambat. <br>"
   ]
  },
  {
   "cell_type": "code",
   "execution_count": 4,
   "id": "5bd23d4d",
   "metadata": {},
   "outputs": [
    {
     "data": {
      "text/html": [
       "<div>\n",
       "<style scoped>\n",
       "    .dataframe tbody tr th:only-of-type {\n",
       "        vertical-align: middle;\n",
       "    }\n",
       "\n",
       "    .dataframe tbody tr th {\n",
       "        vertical-align: top;\n",
       "    }\n",
       "\n",
       "    .dataframe thead th {\n",
       "        text-align: right;\n",
       "    }\n",
       "</style>\n",
       "<table border=\"1\" class=\"dataframe\">\n",
       "  <thead>\n",
       "    <tr style=\"text-align: right;\">\n",
       "      <th></th>\n",
       "      <th>year</th>\n",
       "      <th>month</th>\n",
       "      <th>carrier</th>\n",
       "      <th>carrier_name</th>\n",
       "      <th>airport</th>\n",
       "      <th>airport_name</th>\n",
       "      <th>arr_flights</th>\n",
       "      <th>arr_del15</th>\n",
       "      <th>carrier_ct</th>\n",
       "      <th>weather_ct</th>\n",
       "      <th>...</th>\n",
       "      <th>security_ct</th>\n",
       "      <th>late_aircraft_ct</th>\n",
       "      <th>arr_cancelled</th>\n",
       "      <th>arr_diverted</th>\n",
       "      <th>arr_delay</th>\n",
       "      <th>carrier_delay</th>\n",
       "      <th>weather_delay</th>\n",
       "      <th>nas_delay</th>\n",
       "      <th>security_delay</th>\n",
       "      <th>late_aircraft_delay</th>\n",
       "    </tr>\n",
       "  </thead>\n",
       "  <tbody>\n",
       "    <tr>\n",
       "      <th>101306</th>\n",
       "      <td>2017</td>\n",
       "      <td>1</td>\n",
       "      <td>WN</td>\n",
       "      <td>Southwest Airlines Co.</td>\n",
       "      <td>SJC</td>\n",
       "      <td>San Jose, CA: Norman Y. Mineta San Jose Intern...</td>\n",
       "      <td>2046.0</td>\n",
       "      <td>654.0</td>\n",
       "      <td>125.99</td>\n",
       "      <td>4.64</td>\n",
       "      <td>...</td>\n",
       "      <td>0.65</td>\n",
       "      <td>371.46</td>\n",
       "      <td>43.0</td>\n",
       "      <td>0.0</td>\n",
       "      <td>31683.0</td>\n",
       "      <td>6654.0</td>\n",
       "      <td>264.0</td>\n",
       "      <td>5394.0</td>\n",
       "      <td>20.0</td>\n",
       "      <td>19351.0</td>\n",
       "    </tr>\n",
       "    <tr>\n",
       "      <th>101307</th>\n",
       "      <td>2017</td>\n",
       "      <td>1</td>\n",
       "      <td>WN</td>\n",
       "      <td>Southwest Airlines Co.</td>\n",
       "      <td>SJU</td>\n",
       "      <td>San Juan, PR: Luis Munoz Marin International</td>\n",
       "      <td>311.0</td>\n",
       "      <td>55.0</td>\n",
       "      <td>20.81</td>\n",
       "      <td>0.56</td>\n",
       "      <td>...</td>\n",
       "      <td>0.00</td>\n",
       "      <td>26.01</td>\n",
       "      <td>3.0</td>\n",
       "      <td>1.0</td>\n",
       "      <td>3234.0</td>\n",
       "      <td>1227.0</td>\n",
       "      <td>95.0</td>\n",
       "      <td>281.0</td>\n",
       "      <td>0.0</td>\n",
       "      <td>1631.0</td>\n",
       "    </tr>\n",
       "    <tr>\n",
       "      <th>101308</th>\n",
       "      <td>2017</td>\n",
       "      <td>1</td>\n",
       "      <td>WN</td>\n",
       "      <td>Southwest Airlines Co.</td>\n",
       "      <td>SLC</td>\n",
       "      <td>Salt Lake City, UT: Salt Lake City International</td>\n",
       "      <td>875.0</td>\n",
       "      <td>266.0</td>\n",
       "      <td>69.24</td>\n",
       "      <td>4.70</td>\n",
       "      <td>...</td>\n",
       "      <td>0.00</td>\n",
       "      <td>149.37</td>\n",
       "      <td>6.0</td>\n",
       "      <td>1.0</td>\n",
       "      <td>12920.0</td>\n",
       "      <td>3164.0</td>\n",
       "      <td>175.0</td>\n",
       "      <td>1450.0</td>\n",
       "      <td>0.0</td>\n",
       "      <td>8131.0</td>\n",
       "    </tr>\n",
       "    <tr>\n",
       "      <th>101309</th>\n",
       "      <td>2017</td>\n",
       "      <td>1</td>\n",
       "      <td>WN</td>\n",
       "      <td>Southwest Airlines Co.</td>\n",
       "      <td>SMF</td>\n",
       "      <td>Sacramento, CA: Sacramento International</td>\n",
       "      <td>1942.0</td>\n",
       "      <td>607.0</td>\n",
       "      <td>127.53</td>\n",
       "      <td>6.29</td>\n",
       "      <td>...</td>\n",
       "      <td>0.30</td>\n",
       "      <td>370.68</td>\n",
       "      <td>34.0</td>\n",
       "      <td>4.0</td>\n",
       "      <td>30002.0</td>\n",
       "      <td>6280.0</td>\n",
       "      <td>375.0</td>\n",
       "      <td>3440.0</td>\n",
       "      <td>11.0</td>\n",
       "      <td>19896.0</td>\n",
       "    </tr>\n",
       "    <tr>\n",
       "      <th>101310</th>\n",
       "      <td>2017</td>\n",
       "      <td>1</td>\n",
       "      <td>WN</td>\n",
       "      <td>Southwest Airlines Co.</td>\n",
       "      <td>SNA</td>\n",
       "      <td>Santa Ana, CA: John Wayne Airport-Orange County</td>\n",
       "      <td>1576.0</td>\n",
       "      <td>484.0</td>\n",
       "      <td>108.28</td>\n",
       "      <td>1.27</td>\n",
       "      <td>...</td>\n",
       "      <td>0.00</td>\n",
       "      <td>271.74</td>\n",
       "      <td>34.0</td>\n",
       "      <td>2.0</td>\n",
       "      <td>21762.0</td>\n",
       "      <td>4745.0</td>\n",
       "      <td>102.0</td>\n",
       "      <td>3468.0</td>\n",
       "      <td>0.0</td>\n",
       "      <td>13447.0</td>\n",
       "    </tr>\n",
       "    <tr>\n",
       "      <th>101311</th>\n",
       "      <td>2017</td>\n",
       "      <td>1</td>\n",
       "      <td>WN</td>\n",
       "      <td>Southwest Airlines Co.</td>\n",
       "      <td>STL</td>\n",
       "      <td>St. Louis, MO: St Louis Lambert International</td>\n",
       "      <td>2914.0</td>\n",
       "      <td>522.0</td>\n",
       "      <td>147.05</td>\n",
       "      <td>12.26</td>\n",
       "      <td>...</td>\n",
       "      <td>2.35</td>\n",
       "      <td>249.41</td>\n",
       "      <td>75.0</td>\n",
       "      <td>1.0</td>\n",
       "      <td>25536.0</td>\n",
       "      <td>7203.0</td>\n",
       "      <td>707.0</td>\n",
       "      <td>3860.0</td>\n",
       "      <td>65.0</td>\n",
       "      <td>13701.0</td>\n",
       "    </tr>\n",
       "    <tr>\n",
       "      <th>101312</th>\n",
       "      <td>2017</td>\n",
       "      <td>1</td>\n",
       "      <td>WN</td>\n",
       "      <td>Southwest Airlines Co.</td>\n",
       "      <td>TPA</td>\n",
       "      <td>Tampa, FL: Tampa International</td>\n",
       "      <td>2390.0</td>\n",
       "      <td>447.0</td>\n",
       "      <td>140.36</td>\n",
       "      <td>17.54</td>\n",
       "      <td>...</td>\n",
       "      <td>0.46</td>\n",
       "      <td>208.69</td>\n",
       "      <td>29.0</td>\n",
       "      <td>2.0</td>\n",
       "      <td>24203.0</td>\n",
       "      <td>6666.0</td>\n",
       "      <td>1817.0</td>\n",
       "      <td>3389.0</td>\n",
       "      <td>13.0</td>\n",
       "      <td>12318.0</td>\n",
       "    </tr>\n",
       "    <tr>\n",
       "      <th>101313</th>\n",
       "      <td>2017</td>\n",
       "      <td>1</td>\n",
       "      <td>WN</td>\n",
       "      <td>Southwest Airlines Co.</td>\n",
       "      <td>TUL</td>\n",
       "      <td>Tulsa, OK: Tulsa International</td>\n",
       "      <td>404.0</td>\n",
       "      <td>74.0</td>\n",
       "      <td>26.29</td>\n",
       "      <td>0.28</td>\n",
       "      <td>...</td>\n",
       "      <td>0.00</td>\n",
       "      <td>42.22</td>\n",
       "      <td>6.0</td>\n",
       "      <td>0.0</td>\n",
       "      <td>2905.0</td>\n",
       "      <td>993.0</td>\n",
       "      <td>17.0</td>\n",
       "      <td>170.0</td>\n",
       "      <td>0.0</td>\n",
       "      <td>1725.0</td>\n",
       "    </tr>\n",
       "    <tr>\n",
       "      <th>101314</th>\n",
       "      <td>2017</td>\n",
       "      <td>1</td>\n",
       "      <td>WN</td>\n",
       "      <td>Southwest Airlines Co.</td>\n",
       "      <td>TUS</td>\n",
       "      <td>Tucson, AZ: Tucson International</td>\n",
       "      <td>372.0</td>\n",
       "      <td>139.0</td>\n",
       "      <td>26.44</td>\n",
       "      <td>0.78</td>\n",
       "      <td>...</td>\n",
       "      <td>0.00</td>\n",
       "      <td>98.16</td>\n",
       "      <td>3.0</td>\n",
       "      <td>1.0</td>\n",
       "      <td>7033.0</td>\n",
       "      <td>1163.0</td>\n",
       "      <td>47.0</td>\n",
       "      <td>516.0</td>\n",
       "      <td>0.0</td>\n",
       "      <td>5307.0</td>\n",
       "    </tr>\n",
       "  </tbody>\n",
       "</table>\n",
       "<p>9 rows × 21 columns</p>\n",
       "</div>"
      ],
      "text/plain": [
       "        year  month carrier            carrier_name airport  \\\n",
       "101306  2017      1      WN  Southwest Airlines Co.     SJC   \n",
       "101307  2017      1      WN  Southwest Airlines Co.     SJU   \n",
       "101308  2017      1      WN  Southwest Airlines Co.     SLC   \n",
       "101309  2017      1      WN  Southwest Airlines Co.     SMF   \n",
       "101310  2017      1      WN  Southwest Airlines Co.     SNA   \n",
       "101311  2017      1      WN  Southwest Airlines Co.     STL   \n",
       "101312  2017      1      WN  Southwest Airlines Co.     TPA   \n",
       "101313  2017      1      WN  Southwest Airlines Co.     TUL   \n",
       "101314  2017      1      WN  Southwest Airlines Co.     TUS   \n",
       "\n",
       "                                             airport_name  arr_flights  \\\n",
       "101306  San Jose, CA: Norman Y. Mineta San Jose Intern...       2046.0   \n",
       "101307       San Juan, PR: Luis Munoz Marin International        311.0   \n",
       "101308   Salt Lake City, UT: Salt Lake City International        875.0   \n",
       "101309           Sacramento, CA: Sacramento International       1942.0   \n",
       "101310    Santa Ana, CA: John Wayne Airport-Orange County       1576.0   \n",
       "101311      St. Louis, MO: St Louis Lambert International       2914.0   \n",
       "101312                     Tampa, FL: Tampa International       2390.0   \n",
       "101313                     Tulsa, OK: Tulsa International        404.0   \n",
       "101314                   Tucson, AZ: Tucson International        372.0   \n",
       "\n",
       "        arr_del15  carrier_ct  weather_ct  ...  security_ct  late_aircraft_ct  \\\n",
       "101306      654.0      125.99        4.64  ...         0.65            371.46   \n",
       "101307       55.0       20.81        0.56  ...         0.00             26.01   \n",
       "101308      266.0       69.24        4.70  ...         0.00            149.37   \n",
       "101309      607.0      127.53        6.29  ...         0.30            370.68   \n",
       "101310      484.0      108.28        1.27  ...         0.00            271.74   \n",
       "101311      522.0      147.05       12.26  ...         2.35            249.41   \n",
       "101312      447.0      140.36       17.54  ...         0.46            208.69   \n",
       "101313       74.0       26.29        0.28  ...         0.00             42.22   \n",
       "101314      139.0       26.44        0.78  ...         0.00             98.16   \n",
       "\n",
       "        arr_cancelled  arr_diverted  arr_delay  carrier_delay  weather_delay  \\\n",
       "101306           43.0           0.0    31683.0         6654.0          264.0   \n",
       "101307            3.0           1.0     3234.0         1227.0           95.0   \n",
       "101308            6.0           1.0    12920.0         3164.0          175.0   \n",
       "101309           34.0           4.0    30002.0         6280.0          375.0   \n",
       "101310           34.0           2.0    21762.0         4745.0          102.0   \n",
       "101311           75.0           1.0    25536.0         7203.0          707.0   \n",
       "101312           29.0           2.0    24203.0         6666.0         1817.0   \n",
       "101313            6.0           0.0     2905.0          993.0           17.0   \n",
       "101314            3.0           1.0     7033.0         1163.0           47.0   \n",
       "\n",
       "        nas_delay  security_delay  late_aircraft_delay  \n",
       "101306     5394.0            20.0              19351.0  \n",
       "101307      281.0             0.0               1631.0  \n",
       "101308     1450.0             0.0               8131.0  \n",
       "101309     3440.0            11.0              19896.0  \n",
       "101310     3468.0             0.0              13447.0  \n",
       "101311     3860.0            65.0              13701.0  \n",
       "101312     3389.0            13.0              12318.0  \n",
       "101313      170.0             0.0               1725.0  \n",
       "101314      516.0             0.0               5307.0  \n",
       "\n",
       "[9 rows x 21 columns]"
      ]
     },
     "execution_count": 4,
     "metadata": {},
     "output_type": "execute_result"
    }
   ],
   "source": [
    "#menampilkan 5 data teratas.\n",
    "df.tail(9)"
   ]
  },
  {
   "cell_type": "code",
   "execution_count": 5,
   "id": "882bc561",
   "metadata": {},
   "outputs": [
    {
     "data": {
      "text/plain": [
       "(101315, 21)"
      ]
     },
     "execution_count": 5,
     "metadata": {},
     "output_type": "execute_result"
    }
   ],
   "source": [
    "# Melihat ukuran pada dataframe.\n",
    "df.shape"
   ]
  },
  {
   "cell_type": "markdown",
   "id": "3a79bfff",
   "metadata": {},
   "source": [
    "## Transforming Data"
   ]
  },
  {
   "cell_type": "markdown",
   "id": "175603c3",
   "metadata": {},
   "source": [
    "### Mengubah kolom tahun dan bulan menjadi 1 kolom"
   ]
  },
  {
   "cell_type": "raw",
   "id": "8178d9f6",
   "metadata": {},
   "source": [
    "kita akan menggabungkan kolom tahun dan kolom bulan agar menjadi lebih mudah dalam menggunakan visualisasi"
   ]
  },
  {
   "cell_type": "code",
   "execution_count": 6,
   "id": "cc81234c",
   "metadata": {},
   "outputs": [],
   "source": [
    "df['date'] = df['month'].astype(str) + df['year'].astype(str)\n",
    "df['date'] = pd.to_datetime(df['date'],format = '%m%Y')"
   ]
  },
  {
   "cell_type": "code",
   "execution_count": 7,
   "id": "7e1ec7de",
   "metadata": {},
   "outputs": [
    {
     "data": {
      "text/plain": [
       "0   2022-07-01\n",
       "1   2022-07-01\n",
       "2   2022-07-01\n",
       "3   2022-07-01\n",
       "4   2022-07-01\n",
       "Name: date, dtype: datetime64[ns]"
      ]
     },
     "execution_count": 7,
     "metadata": {},
     "output_type": "execute_result"
    }
   ],
   "source": [
    "#menampilkan kolom date\n",
    "df['date'].head()"
   ]
  },
  {
   "cell_type": "markdown",
   "id": "bff6b576",
   "metadata": {},
   "source": [
    "### Memisahkan data pada kolom airport_name"
   ]
  },
  {
   "cell_type": "markdown",
   "id": "82293088",
   "metadata": {},
   "source": [
    "Dalam kolom airport name, terdapat nama kota serta kode provinsi, dengan mendapatkan nama kota dan kode provinsi, kita dapat membuat visualisasi berdasarkan peta, serta grouping perkota atau perprovinsi."
   ]
  },
  {
   "cell_type": "code",
   "execution_count": 8,
   "id": "c77f1526",
   "metadata": {},
   "outputs": [],
   "source": [
    "#mengambil nama kota menggunakan fungsi split\n",
    "apt_name_airport_city = df[\"airport_name\"].str.split(\",\", n = 1, expand = True)"
   ]
  },
  {
   "cell_type": "code",
   "execution_count": 9,
   "id": "10a36148",
   "metadata": {},
   "outputs": [],
   "source": [
    "#mengambil kode provinsi serta memisahkan nama airport\n",
    "apt_name_airport_province= apt_name_airport_city[1].str.split(\": \", n = 1, expand = True)"
   ]
  },
  {
   "cell_type": "code",
   "execution_count": 10,
   "id": "a583e13d",
   "metadata": {},
   "outputs": [],
   "source": [
    "#memasukkan nama kota dan kode provinsi kedalam dataframe\n",
    "df['city'] = apt_name_airport_city[0]\n",
    "df['province']= apt_name_airport_province[0]\n",
    "df['airport_name'] =apt_name_airport_province[1]"
   ]
  },
  {
   "cell_type": "code",
   "execution_count": 11,
   "id": "5613e5ec",
   "metadata": {},
   "outputs": [
    {
     "data": {
      "text/html": [
       "<div>\n",
       "<style scoped>\n",
       "    .dataframe tbody tr th:only-of-type {\n",
       "        vertical-align: middle;\n",
       "    }\n",
       "\n",
       "    .dataframe tbody tr th {\n",
       "        vertical-align: top;\n",
       "    }\n",
       "\n",
       "    .dataframe thead th {\n",
       "        text-align: right;\n",
       "    }\n",
       "</style>\n",
       "<table border=\"1\" class=\"dataframe\">\n",
       "  <thead>\n",
       "    <tr style=\"text-align: right;\">\n",
       "      <th></th>\n",
       "      <th>city</th>\n",
       "      <th>province</th>\n",
       "      <th>airport_name</th>\n",
       "    </tr>\n",
       "  </thead>\n",
       "  <tbody>\n",
       "    <tr>\n",
       "      <th>0</th>\n",
       "      <td>Allentown/Bethlehem/Easton</td>\n",
       "      <td>PA</td>\n",
       "      <td>Lehigh Valley International</td>\n",
       "    </tr>\n",
       "    <tr>\n",
       "      <th>1</th>\n",
       "      <td>Albany</td>\n",
       "      <td>GA</td>\n",
       "      <td>Southwest Georgia Regional</td>\n",
       "    </tr>\n",
       "    <tr>\n",
       "      <th>2</th>\n",
       "      <td>Nantucket</td>\n",
       "      <td>MA</td>\n",
       "      <td>Nantucket Memorial</td>\n",
       "    </tr>\n",
       "    <tr>\n",
       "      <th>3</th>\n",
       "      <td>Alexandria</td>\n",
       "      <td>LA</td>\n",
       "      <td>Alexandria International</td>\n",
       "    </tr>\n",
       "    <tr>\n",
       "      <th>4</th>\n",
       "      <td>Augusta</td>\n",
       "      <td>GA</td>\n",
       "      <td>Augusta Regional at Bush Field</td>\n",
       "    </tr>\n",
       "  </tbody>\n",
       "</table>\n",
       "</div>"
      ],
      "text/plain": [
       "                         city province                    airport_name\n",
       "0  Allentown/Bethlehem/Easton       PA     Lehigh Valley International\n",
       "1                      Albany       GA      Southwest Georgia Regional\n",
       "2                   Nantucket       MA              Nantucket Memorial\n",
       "3                  Alexandria       LA        Alexandria International\n",
       "4                     Augusta       GA  Augusta Regional at Bush Field"
      ]
     },
     "execution_count": 11,
     "metadata": {},
     "output_type": "execute_result"
    }
   ],
   "source": [
    "#menampilkan hasil pemisahhan\n",
    "df[['city','province','airport_name']].head()"
   ]
  },
  {
   "cell_type": "code",
   "execution_count": 12,
   "id": "e0627895",
   "metadata": {},
   "outputs": [],
   "source": [
    "df_backup = df.copy()"
   ]
  },
  {
   "cell_type": "markdown",
   "id": "5665c6f0",
   "metadata": {},
   "source": [
    "## Maskapai Mana Yang Memiliki Penerbangan Yang Paling Banyak?"
   ]
  },
  {
   "cell_type": "code",
   "execution_count": 13,
   "id": "46c67fdf",
   "metadata": {},
   "outputs": [
    {
     "data": {
      "text/plain": [
       "carrier_name\n",
       "Southwest Airlines Co.    6803783.0\n",
       "Delta Air Lines Inc.      4706042.0\n",
       "American Airlines Inc.    4562100.0\n",
       "SkyWest Airlines Inc.     3865834.0\n",
       "United Air Lines Inc.     2939019.0\n",
       "JetBlue Airways           1404733.0\n",
       "Republic Airline          1283100.0\n",
       "Name: arr_flights, dtype: float64"
      ]
     },
     "execution_count": 13,
     "metadata": {},
     "output_type": "execute_result"
    }
   ],
   "source": [
    "dfe = df.sort_values(by=['arr_flights'], ascending=False)\n",
    "dfe.groupby(\"carrier_name\")['arr_flights'].sum().sort_values(ascending=False).head(7)"
   ]
  },
  {
   "cell_type": "code",
   "execution_count": 14,
   "id": "21ce3bd1",
   "metadata": {},
   "outputs": [
    {
     "data": {
      "text/plain": [
       "<AxesSubplot:xlabel='carrier_name'>"
      ]
     },
     "execution_count": 14,
     "metadata": {},
     "output_type": "execute_result"
    },
    {
     "data": {
      "image/png": "[encoded data removed]",
      "text/plain": [
       "<Figure size 432x288 with 1 Axes>"
      ]
     },
     "metadata": {
      "needs_background": "light"
     },
     "output_type": "display_data"
    }
   ],
   "source": [
    "car_arr = dfe.groupby(\"carrier_name\")['arr_flights'].sum().sort_values(ascending=False).head(7)\n",
    "car_arr.plot(kind='bar')"
   ]
  },
  {
   "cell_type": "markdown",
   "id": "40a082a4",
   "metadata": {},
   "source": [
    " Tampaknya maskapai Southwest Airlines Co memiliki penerbangan terbanyak, diikuti oleh Delta Airlines Inc."
   ]
  },
  {
   "cell_type": "markdown",
   "id": "1ed4276b",
   "metadata": {},
   "source": [
    "## Kota Mana yang Memiliki Penerbangan terbanyak?"
   ]
  },
  {
   "cell_type": "code",
   "execution_count": 39,
   "id": "524f88a3",
   "metadata": {},
   "outputs": [
    {
     "data": {
      "text/plain": [
       "city\n",
       "Chicago              1885843.0\n",
       "Atlanta              1866608.0\n",
       "Dallas/Fort Worth    1371595.0\n",
       "Denver               1324159.0\n",
       "New York             1196256.0\n",
       "Houston              1073119.0\n",
       "Los Angeles          1059705.0\n",
       "Charlotte             999199.0\n",
       "Phoenix               889581.0\n",
       "Washington            841237.0\n",
       "Name: arr_flights, dtype: float64"
      ]
     },
     "execution_count": 39,
     "metadata": {},
     "output_type": "execute_result"
    }
   ],
   "source": [
    "dfe.groupby(\"city\")['arr_flights'].sum().sort_values(ascending=False).head(10)"
   ]
  },
  {
   "cell_type": "code",
   "execution_count": 37,
   "id": "7f0480f7",
   "metadata": {},
   "outputs": [
    {
     "data": {
      "text/plain": [
       "<AxesSubplot:xlabel='city'>"
      ]
     },
     "execution_count": 37,
     "metadata": {},
     "output_type": "execute_result"
    },
    {
     "data": {
      "image/png": "[encoded data removed]",
      "text/plain": [
       "<Figure size 432x288 with 1 Axes>"
      ]
     },
     "metadata": {
      "needs_background": "light"
     },
     "output_type": "display_data"
    }
   ],
   "source": [
    "city_arr = dfe.groupby(\"city\")['arr_flights'].sum().sort_values(ascending=False).head(10)\n",
    "city_arr.plot(kind='bar')"
   ]
  },
  {
   "cell_type": "markdown",
   "id": "e605793f",
   "metadata": {},
   "source": [
    "Tampaknya Penerbangan di Amerika lebih banyak di antara kota Chicago dan kota Atlanta, diantara 2 kota ini memiliki selisih yang cukup dekat. Dengan Diantara 2 kota ini, apakah berpengaruh dengan jumlah penerbangan yang terlambat akibat terlambatnya penerbangan yang terlambat karena faktor lalu lintas udara yang ramai?"
   ]
  },
  {
   "cell_type": "code",
   "execution_count": 17,
   "id": "6fb521fd",
   "metadata": {},
   "outputs": [
    {
     "data": {
      "text/plain": [
       "city\n",
       "Chicago              114174.93\n",
       "New York             109383.64\n",
       "Newark                94861.89\n",
       "San Francisco         80937.06\n",
       "Dallas/Fort Worth     80920.91\n",
       "Atlanta               75610.51\n",
       "Denver                69080.77\n",
       "Name: nas_ct, dtype: float64"
      ]
     },
     "execution_count": 17,
     "metadata": {},
     "output_type": "execute_result"
    }
   ],
   "source": [
    "df_nas_ct = df.sort_values(by=['nas_ct'], ascending=False)\n",
    "df_nas_ct.groupby(\"city\")[\"nas_ct\"].sum().sort_values(ascending=False).head(7)"
   ]
  },
  {
   "cell_type": "markdown",
   "id": "c7cfb8ac",
   "metadata": {},
   "source": [
    "Benar, Kota Chicago memiliki tingkat keterlambatan penerbangan karena faktor lalu lintas udara yang ramai yang tertinggi, tetapi tidak diikuti oleh kota Atlanta, Melainkan Kota New York. Pertanyaannya adalah kenapa kota New York bisa menjadi kota yang tebih terlambat dibanding kota Atlanta, kota Dallas dan kota Denver? "
   ]
  },
  {
   "cell_type": "code",
   "execution_count": 18,
   "id": "3449bf88",
   "metadata": {},
   "outputs": [
    {
     "name": "stderr",
     "output_type": "stream",
     "text": [
      "C:\\Users\\farha\\AppData\\Local\\Temp\\ipykernel_1188\\1763160833.py:3: FutureWarning: Indexing with multiple keys (implicitly converted to a tuple of keys) will be deprecated, use a list instead.\n",
      "  df_city_x = df_city_x.groupby('city')['carrier_ct','weather_ct','nas_ct','security_ct','late_aircraft_ct'].sum()\n"
     ]
    },
    {
     "data": {
      "text/plain": [
       "<AxesSubplot:xlabel='city'>"
      ]
     },
     "execution_count": 18,
     "metadata": {},
     "output_type": "execute_result"
    },
    {
     "data": {
      "image/png": "[encoded data removed]",
      "text/plain": [
       "<Figure size 432x288 with 1 Axes>"
      ]
     },
     "metadata": {
      "needs_background": "light"
     },
     "output_type": "display_data"
    }
   ],
   "source": [
    "city_x = ['New York','Dallas','Denver','Atlanta']\n",
    "df_city_x = df[df['city'].isin(city_x)]\n",
    "df_city_x = df_city_x.groupby('city')['carrier_ct','weather_ct','nas_ct','security_ct','late_aircraft_ct'].sum()\n",
    "df_city_x.plot(kind='bar')"
   ]
  },
  {
   "cell_type": "markdown",
   "id": "46182b17",
   "metadata": {},
   "source": [
    "Terungkap bahwa penyebab kota New York memiliki tingkat keterlambatan faktor lalu lintas yang tinggi dibanding kota yang lain yan memiliki tingkat keterlambatannya lebih tinggi dibanding kota New Yok ialah Faktor Keterlambatan akibat kepadatan lalu lintas kota New York sendiri memiliki selisih yang besar dibanding faktor lainnya."
   ]
  },
  {
   "cell_type": "code",
   "execution_count": 19,
   "id": "7fcfa33a",
   "metadata": {},
   "outputs": [
    {
     "data": {
      "text/plain": [
       "Text(0.5, 1.0, 'Keterlambatan Akibat kepadatan Lalin Udara')"
      ]
     },
     "execution_count": 19,
     "metadata": {},
     "output_type": "execute_result"
    },
    {
     "data": {
      "image/png": "[encoded data removed]",
      "text/plain": [
       "<Figure size 432x288 with 1 Axes>"
      ]
     },
     "metadata": {
      "needs_background": "light"
     },
     "output_type": "display_data"
    }
   ],
   "source": [
    "df_newyork_nas = df[(df['city'] == 'New York')]\n",
    "\n",
    "df_ny_nas1 = df_newyork_nas.loc[(df_newyork_nas['date'] >= '2018-01-01')\n",
    "                     & (df_newyork_nas['date'] < '2019-01-01')]\n",
    "df_ny_nas2 = df_newyork_nas.loc[(df_newyork_nas['date'] >= '2019-01-01')\n",
    "                     & (df_newyork_nas['date'] < '2020-01-01')]\n",
    "df_ny_nas3 = df_newyork_nas.loc[(df_newyork_nas['date'] >= '2020-01-01')\n",
    "                     & (df_newyork_nas['date'] < '2021-01-01')]\n",
    "df_ny_nas4 = df_newyork_nas.loc[(df_newyork_nas['date'] >= '2021-01-01')\n",
    "                     & (df_newyork_nas['date'] < '2022-01-01')]\n",
    "df_newyork_nas.groupby('date')['nas_ct'].sum().plot()\n",
    "plt.title('Keterlambatan Akibat kepadatan Lalin Udara')\n"
   ]
  },
  {
   "cell_type": "markdown",
   "id": "2b8ea219",
   "metadata": {},
   "source": [
    "Sepertinya pada tahun 2018 hingga tahun 2020 memiliki kepadatan tertinggi"
   ]
  },
  {
   "cell_type": "markdown",
   "id": "44f7808c",
   "metadata": {},
   "source": [
    "## Kota yang memiliki tingkat keterlambatan tertinggi"
   ]
  },
  {
   "cell_type": "code",
   "execution_count": 20,
   "id": "d2b3e8d4",
   "metadata": {},
   "outputs": [],
   "source": [
    "#Menkalkulasikan semua keterlambatan\n",
    "df_all_delay = df['carrier_ct']+df['weather_ct']+df['nas_ct']+df['security_ct']+df['late_aircraft_ct']\n",
    "#menmasukkan kedalam df\n",
    "df['all_delay'] = df_all_delay[0]"
   ]
  },
  {
   "cell_type": "code",
   "execution_count": 21,
   "id": "677e0858",
   "metadata": {},
   "outputs": [
    {
     "data": {
      "text/plain": [
       "city\n",
       "Washington    3086.0\n",
       "Portland      2662.0\n",
       "New York      2560.0\n",
       "Houston       2156.0\n",
       "Chicago       2056.0\n",
       "Columbus      1970.0\n",
       "Nashville     1826.0\n",
       "Name: all_delay, dtype: float64"
      ]
     },
     "execution_count": 21,
     "metadata": {},
     "output_type": "execute_result"
    }
   ],
   "source": [
    "df_all_delay = df.sort_values(by=['all_delay'], ascending=False)\n",
    "df_all_delay.groupby(\"city\")[\"all_delay\"].sum().sort_values(ascending=False).head(7)"
   ]
  },
  {
   "cell_type": "code",
   "execution_count": 22,
   "id": "848c1132",
   "metadata": {},
   "outputs": [
    {
     "data": {
      "text/plain": [
       "<AxesSubplot:xlabel='city'>"
      ]
     },
     "execution_count": 22,
     "metadata": {},
     "output_type": "execute_result"
    },
    {
     "data": {
      "image/png": "[encoded data removed]",
      "text/plain": [
       "<Figure size 432x288 with 1 Axes>"
      ]
     },
     "metadata": {
      "needs_background": "light"
     },
     "output_type": "display_data"
    }
   ],
   "source": [
    "all_delay_city = df_all_delay.groupby(\"city\")[\"all_delay\"].sum().sort_values(ascending=False).head(7)\n",
    "all_delay_city.plot(kind='bar')"
   ]
  },
  {
   "cell_type": "markdown",
   "id": "dc331794",
   "metadata": {},
   "source": [
    "Tampaknya Kota Washington memiliki tingkat keterlambatan yang cukup tinggi, dan perbedaanya yang cukup besar di antara kota ke-2 terbesar. Yang paling menarik untuk dieksplorasi adalah, apa faktor penyebab kota Washington menjadi kota yang paling terlambat?"
   ]
  },
  {
   "cell_type": "code",
   "execution_count": 23,
   "id": "39dc6ae5",
   "metadata": {},
   "outputs": [
    {
     "name": "stderr",
     "output_type": "stream",
     "text": [
      "C:\\Users\\farha\\AppData\\Local\\Temp\\ipykernel_1188\\735868516.py:2: FutureWarning: Indexing with multiple keys (implicitly converted to a tuple of keys) will be deprecated, use a list instead.\n",
      "  df_washington = df_washington_c.groupby('city')['carrier_ct','weather_ct','nas_ct','security_ct','late_aircraft_ct'].sum()\n"
     ]
    },
    {
     "data": {
      "text/plain": [
       "<AxesSubplot:xlabel='city'>"
      ]
     },
     "execution_count": 23,
     "metadata": {},
     "output_type": "execute_result"
    },
    {
     "data": {
      "image/png": "[encoded data removed]",
      "text/plain": [
       "<Figure size 432x288 with 1 Axes>"
      ]
     },
     "metadata": {
      "needs_background": "light"
     },
     "output_type": "display_data"
    }
   ],
   "source": [
    "df_washington_c = df[(df['city'] == 'Washington')]\n",
    "df_washington = df_washington_c.groupby('city')['carrier_ct','weather_ct','nas_ct','security_ct','late_aircraft_ct'].sum()\n",
    "df_washington.plot(kind='bar')"
   ]
  },
  {
   "cell_type": "markdown",
   "id": "a0909cee",
   "metadata": {},
   "source": [
    "Dari visualisasi diatas, terlihat bahwa penyebab keterlambatannya yang utama ialah karena penerbangan yang lain tertunda karena menggunakan pesawat yang sama. Namun dari maskapai mana yang sering menyebabkan tertunda akibat menggunakan pesawat yang sama?"
   ]
  },
  {
   "cell_type": "code",
   "execution_count": 24,
   "id": "1519db45",
   "metadata": {},
   "outputs": [
    {
     "data": {
      "text/plain": [
       "carrier_name\n",
       "PSA Airlines Inc.         8723.18\n",
       "American Airlines Inc.    8010.76\n",
       "United Air Lines Inc.     7626.74\n",
       "Southwest Airlines Co.    6570.87\n",
       "Republic Airline          6064.91\n",
       "Name: late_aircraft_ct, dtype: float64"
      ]
     },
     "execution_count": 24,
     "metadata": {},
     "output_type": "execute_result"
    }
   ],
   "source": [
    "df_washington_carrier = df[(df['city'] == 'Washington')]\n",
    "df_washington_carrier.groupby('carrier_name')['late_aircraft_ct'].sum().sort_values(ascending=False).head(5)"
   ]
  },
  {
   "cell_type": "markdown",
   "id": "f31ddfba",
   "metadata": {},
   "source": [
    "Terlihat bahwa PSA Airlines Inc. ialah maskapai penyebab keterlambatan terbanyak di kota Washington. "
   ]
  },
  {
   "cell_type": "markdown",
   "id": "0dd77681",
   "metadata": {},
   "source": [
    "## Kota dengan persentase keterlambatan tertinggi"
   ]
  },
  {
   "cell_type": "markdown",
   "id": "521c5dda",
   "metadata": {},
   "source": [
    "Dengan ini, Mari kita lihat kota yang memiki persentase keterlambatan tertinggi."
   ]
  },
  {
   "cell_type": "code",
   "execution_count": 25,
   "id": "e2426488",
   "metadata": {},
   "outputs": [
    {
     "data": {
      "text/html": [
       "<div>\n",
       "<style scoped>\n",
       "    .dataframe tbody tr th:only-of-type {\n",
       "        vertical-align: middle;\n",
       "    }\n",
       "\n",
       "    .dataframe tbody tr th {\n",
       "        vertical-align: top;\n",
       "    }\n",
       "\n",
       "    .dataframe thead th {\n",
       "        text-align: right;\n",
       "    }\n",
       "</style>\n",
       "<table border=\"1\" class=\"dataframe\">\n",
       "  <thead>\n",
       "    <tr style=\"text-align: right;\">\n",
       "      <th></th>\n",
       "      <th>city</th>\n",
       "      <th>percentage_of_delay</th>\n",
       "    </tr>\n",
       "  </thead>\n",
       "  <tbody>\n",
       "    <tr>\n",
       "      <th>9</th>\n",
       "      <td>Washington</td>\n",
       "      <td>0.366841</td>\n",
       "    </tr>\n",
       "    <tr>\n",
       "      <th>19</th>\n",
       "      <td>Baltimore</td>\n",
       "      <td>0.317209</td>\n",
       "    </tr>\n",
       "    <tr>\n",
       "      <th>16</th>\n",
       "      <td>Boston</td>\n",
       "      <td>0.248961</td>\n",
       "    </tr>\n",
       "    <tr>\n",
       "      <th>14</th>\n",
       "      <td>Detroit</td>\n",
       "      <td>0.245538</td>\n",
       "    </tr>\n",
       "    <tr>\n",
       "      <th>17</th>\n",
       "      <td>Newark</td>\n",
       "      <td>0.245164</td>\n",
       "    </tr>\n",
       "  </tbody>\n",
       "</table>\n",
       "</div>"
      ],
      "text/plain": [
       "          city  percentage_of_delay\n",
       "9   Washington             0.366841\n",
       "19   Baltimore             0.317209\n",
       "16      Boston             0.248961\n",
       "14     Detroit             0.245538\n",
       "17      Newark             0.245164"
      ]
     },
     "execution_count": 25,
     "metadata": {},
     "output_type": "execute_result"
    }
   ],
   "source": [
    "df_percentage = df.sort_values(by=['arr_flights'], ascending=False)\n",
    "df_percentage = df_percentage.groupby('city', as_index=False).agg({\"arr_flights\": \"sum\", \"all_delay\": \"sum\"}).sort_values(['arr_flights','all_delay'],ascending = [False, False]).head(20).reset_index(drop=True)\n",
    "df_percentage['percentage_of_delay'] =  df_percentage['all_delay'] / df_percentage['arr_flights'] * 100\n",
    "df_percentage[['city','percentage_of_delay']].sort_values('percentage_of_delay',ascending=False).head(5)"
   ]
  },
  {
   "cell_type": "markdown",
   "id": "eb5acc26",
   "metadata": {},
   "source": [
    "Terlihat bahwa kota Washing memiliki persentase tertinggi dalam kemungkinan keterlambatan dalam penerbangan, diikuti dengan kota Baltimore dan kota Boston."
   ]
  },
  {
   "cell_type": "markdown",
   "id": "c49a3d32",
   "metadata": {},
   "source": [
    "## Kapan Penerbangan di Amerika mengalami peek Season?"
   ]
  },
  {
   "cell_type": "code",
   "execution_count": 26,
   "id": "7b87c35b",
   "metadata": {},
   "outputs": [
    {
     "data": {
      "text/plain": [
       "<AxesSubplot:xlabel='date'>"
      ]
     },
     "execution_count": 26,
     "metadata": {},
     "output_type": "execute_result"
    },
    {
     "data": {
      "image/png": "[encoded data removed]",
      "text/plain": [
       "<Figure size 432x288 with 1 Axes>"
      ]
     },
     "metadata": {
      "needs_background": "light"
     },
     "output_type": "display_data"
    }
   ],
   "source": [
    "df.groupby(\"date\")[\"arr_flights\"].sum().plot()"
   ]
  },
  {
   "cell_type": "markdown",
   "id": "c541c610",
   "metadata": {},
   "source": [
    "Tampaknya pada pertengahan tahun 2019 hingga Q1 2020 memiliki puncaknya penerbangan pada saat itu, dan menariknya ada pemerosotan yang sangat tajam pada waktu sebelum Q2 tahun 2020 karena pada saat periode waktu tersebut terjadi pandemik. Lalu penerbangan mulai ramai kembali pada Q1 tahun 2021. Kembali ketujuan utama kita, yaitu kapan terjadinya keterlambatan pesawat tertinggi terjadi?"
   ]
  },
  {
   "cell_type": "markdown",
   "id": "31e45a9a",
   "metadata": {},
   "source": [
    "## Di waktu kapan penerbangan di Amerika mengalami keterlambatan terbesar?"
   ]
  },
  {
   "cell_type": "code",
   "execution_count": 27,
   "id": "5b3edb09",
   "metadata": {},
   "outputs": [
    {
     "data": {
      "text/plain": [
       "<AxesSubplot:xlabel='date'>"
      ]
     },
     "execution_count": 27,
     "metadata": {},
     "output_type": "execute_result"
    },
    {
     "data": {
      "image/png": "[encoded data removed]",
      "text/plain": [
       "<Figure size 432x288 with 1 Axes>"
      ]
     },
     "metadata": {
      "needs_background": "light"
     },
     "output_type": "display_data"
    }
   ],
   "source": [
    "df.groupby(\"date\")[\"all_delay\"].sum().plot()"
   ]
  },
  {
   "cell_type": "markdown",
   "id": "d639c5ba",
   "metadata": {},
   "source": [
    "Pada tahun 2019 hingga tahun 2020 memiliki angka keterlambatan yang besar dan penurunan tajam yang terjadi pada mulainya waktu pandemik tidak setajam merosotnya jumlah penerbangan. Hingga pada saat itu kemungkinan sebagian besar penerbangan mengalami keterlambatan. Apakah benar? Mari kita analisa penyebab keterlambatan pada era pandemik dimulai."
   ]
  },
  {
   "cell_type": "code",
   "execution_count": 28,
   "id": "a23478a4",
   "metadata": {},
   "outputs": [
    {
     "name": "stderr",
     "output_type": "stream",
     "text": [
      "C:\\Users\\farha\\AppData\\Local\\Temp\\ipykernel_1188\\292899175.py:3: FutureWarning: Indexing with multiple keys (implicitly converted to a tuple of keys) will be deprecated, use a list instead.\n",
      "  df_down.groupby('date')['carrier_ct','weather_ct','nas_ct','security_ct','late_aircraft_ct'].sum()\n"
     ]
    },
    {
     "data": {
      "text/html": [
       "<div>\n",
       "<style scoped>\n",
       "    .dataframe tbody tr th:only-of-type {\n",
       "        vertical-align: middle;\n",
       "    }\n",
       "\n",
       "    .dataframe tbody tr th {\n",
       "        vertical-align: top;\n",
       "    }\n",
       "\n",
       "    .dataframe thead th {\n",
       "        text-align: right;\n",
       "    }\n",
       "</style>\n",
       "<table border=\"1\" class=\"dataframe\">\n",
       "  <thead>\n",
       "    <tr style=\"text-align: right;\">\n",
       "      <th></th>\n",
       "      <th>carrier_ct</th>\n",
       "      <th>weather_ct</th>\n",
       "      <th>nas_ct</th>\n",
       "      <th>security_ct</th>\n",
       "      <th>late_aircraft_ct</th>\n",
       "    </tr>\n",
       "    <tr>\n",
       "      <th>date</th>\n",
       "      <th></th>\n",
       "      <th></th>\n",
       "      <th></th>\n",
       "      <th></th>\n",
       "      <th></th>\n",
       "    </tr>\n",
       "  </thead>\n",
       "  <tbody>\n",
       "    <tr>\n",
       "      <th>2020-03-01</th>\n",
       "      <td>16910.02</td>\n",
       "      <td>1093.09</td>\n",
       "      <td>19437.01</td>\n",
       "      <td>99.90</td>\n",
       "      <td>16179.91</td>\n",
       "    </tr>\n",
       "    <tr>\n",
       "      <th>2020-04-01</th>\n",
       "      <td>4497.78</td>\n",
       "      <td>294.84</td>\n",
       "      <td>2859.66</td>\n",
       "      <td>27.84</td>\n",
       "      <td>1358.06</td>\n",
       "    </tr>\n",
       "    <tr>\n",
       "      <th>2020-05-01</th>\n",
       "      <td>3665.56</td>\n",
       "      <td>419.17</td>\n",
       "      <td>2252.63</td>\n",
       "      <td>40.82</td>\n",
       "      <td>1415.82</td>\n",
       "    </tr>\n",
       "    <tr>\n",
       "      <th>2020-06-01</th>\n",
       "      <td>6618.98</td>\n",
       "      <td>1175.27</td>\n",
       "      <td>4133.91</td>\n",
       "      <td>69.61</td>\n",
       "      <td>2951.39</td>\n",
       "    </tr>\n",
       "  </tbody>\n",
       "</table>\n",
       "</div>"
      ],
      "text/plain": [
       "            carrier_ct  weather_ct    nas_ct  security_ct  late_aircraft_ct\n",
       "date                                                                       \n",
       "2020-03-01    16910.02     1093.09  19437.01        99.90          16179.91\n",
       "2020-04-01     4497.78      294.84   2859.66        27.84           1358.06\n",
       "2020-05-01     3665.56      419.17   2252.63        40.82           1415.82\n",
       "2020-06-01     6618.98     1175.27   4133.91        69.61           2951.39"
      ]
     },
     "execution_count": 28,
     "metadata": {},
     "output_type": "execute_result"
    }
   ],
   "source": [
    "df_down = df.loc[(df['date'] >= '2020-03-01')\n",
    "                     & (df['date'] < '2020-07-01')]\n",
    "df_down.groupby('date')['carrier_ct','weather_ct','nas_ct','security_ct','late_aircraft_ct'].sum()"
   ]
  },
  {
   "cell_type": "markdown",
   "id": "522d1d05",
   "metadata": {},
   "source": [
    "Pada era pandemik dimulai, penyebab yang lebih banyak menyebabkan keterlambatan ialah faktor maskapai, dan juga ada penerbangan yang dibatalkan. Mari kita lihat grafik dibatalkannya penerbangan."
   ]
  },
  {
   "cell_type": "code",
   "execution_count": 29,
   "id": "f282a146",
   "metadata": {},
   "outputs": [
    {
     "data": {
      "text/plain": [
       "<AxesSubplot:xlabel='date'>"
      ]
     },
     "execution_count": 29,
     "metadata": {},
     "output_type": "execute_result"
    },
    {
     "data": {
      "image/png": "[encoded data removed]",
      "text/plain": [
       "<Figure size 432x288 with 1 Axes>"
      ]
     },
     "metadata": {
      "needs_background": "light"
     },
     "output_type": "display_data"
    }
   ],
   "source": [
    "df_cancelled = df.loc[(df['date'] >= '2020-01-01')\n",
    "                     & (df['date'] < '2021-01-01')]\n",
    "df_cancelled.groupby('date')['arr_cancelled'].sum().plot()"
   ]
  },
  {
   "cell_type": "markdown",
   "id": "bdf017e7",
   "metadata": {},
   "source": [
    "Pada awal bulan maret 2020 terjadinya puncak dari pembatalan besar-besaran penerbangan karena faktor Covid19."
   ]
  },
  {
   "cell_type": "markdown",
   "id": "553371f2",
   "metadata": {},
   "source": [
    "## Kota dan maskapai yang memiliki waktu terlambat paling lama dalam waktu (menit)"
   ]
  },
  {
   "cell_type": "markdown",
   "id": "6fbc9291",
   "metadata": {},
   "source": [
    "Disini kita akan menganalisa kota dan maskapai mana yang memiliki waktu terlambat paling lama dalam hitungan menit, karena kita akan mencari tahu apa saja yang membuat kota atau maskapai tersebut memiliki waktu terlambat yang lama."
   ]
  },
  {
   "cell_type": "code",
   "execution_count": 30,
   "id": "8a3d166c",
   "metadata": {},
   "outputs": [],
   "source": [
    "#Menkalkulasikan semua keterlambatan\n",
    "df_time_delay = df['carrier_delay']+df['weather_delay']+df['nas_delay']+df['security_delay']+df['late_aircraft_delay']\n",
    "#menmasukkan kedalam dataframe\n",
    "df['all_time_delay'] = df_time_delay[0]"
   ]
  },
  {
   "cell_type": "code",
   "execution_count": 31,
   "id": "c2e28e77",
   "metadata": {},
   "outputs": [
    {
     "data": {
      "text/plain": [
       "<AxesSubplot:xlabel='city'>"
      ]
     },
     "execution_count": 31,
     "metadata": {},
     "output_type": "execute_result"
    },
    {
     "data": {
      "image/png": "[encoded data removed]",
      "text/plain": [
       "<Figure size 432x288 with 1 Axes>"
      ]
     },
     "metadata": {
      "needs_background": "light"
     },
     "output_type": "display_data"
    }
   ],
   "source": [
    "df_all_time_delay = df.sort_values(by=['all_time_delay'], ascending=False)\n",
    "df_all_time_delay_br = df_all_time_delay.groupby(\"city\")[\"all_time_delay\"].sum().sort_values(ascending=False).head(7)\n",
    "df_all_time_delay_br.plot(kind='bar')"
   ]
  },
  {
   "cell_type": "markdown",
   "id": "37144213",
   "metadata": {},
   "source": [
    "Dari hasil visualisasi diatas, sepertinya kita tidak ingin pergi ke kota Washington. ya dibandingkan dengan jumlah penerbangan kota Washington yang tidak sebanding dengan kota-kota lainnya, kota Washington terlihat memiliki angka keterlambatannya yang paling banyak dan memiliki selisih yang cukup besar dibandingkan dengan kota Portland yang d urutan kedua kota yang paling terlambat dalam hitungan menit. Kira-kira apa penyebab keterlambatan yang menyebabkan kota Washington menjadi kota nomor 1?"
   ]
  },
  {
   "cell_type": "code",
   "execution_count": 32,
   "id": "f7d27c6f",
   "metadata": {},
   "outputs": [
    {
     "name": "stderr",
     "output_type": "stream",
     "text": [
      "C:\\Users\\farha\\AppData\\Local\\Temp\\ipykernel_1188\\2494468706.py:2: FutureWarning: Indexing with multiple keys (implicitly converted to a tuple of keys) will be deprecated, use a list instead.\n",
      "  df_washington_d = df_washington_d.groupby('city')['carrier_delay','weather_delay','nas_delay','security_delay','late_aircraft_delay'].sum()\n"
     ]
    },
    {
     "data": {
      "text/plain": [
       "Text(0.5, 1.0, 'Keterlambatan dalam Hitungan Menit')"
      ]
     },
     "execution_count": 32,
     "metadata": {},
     "output_type": "execute_result"
    },
    {
     "data": {
      "image/png": "[encoded data removed]",
      "text/plain": [
       "<Figure size 432x288 with 1 Axes>"
      ]
     },
     "metadata": {
      "needs_background": "light"
     },
     "output_type": "display_data"
    }
   ],
   "source": [
    "df_washington_d = df[(df['city'] == 'Washington')]\n",
    "df_washington_d = df_washington_d.groupby('city')['carrier_delay','weather_delay','nas_delay','security_delay','late_aircraft_delay'].sum()\n",
    "df_washington_d.plot(kind='bar')\n",
    "plt.title('Keterlambatan dalam Hitungan Menit')"
   ]
  },
  {
   "cell_type": "markdown",
   "id": "26f78d11",
   "metadata": {},
   "source": [
    "sebelum kita mencari insight dari visualisasi diatas, mari kita lihat kembali visualisasi faktor penyebab keterlambatan pada kota Washington terbanyak."
   ]
  },
  {
   "cell_type": "code",
   "execution_count": 33,
   "id": "285d0f8c",
   "metadata": {},
   "outputs": [
    {
     "name": "stderr",
     "output_type": "stream",
     "text": [
      "C:\\Users\\farha\\AppData\\Local\\Temp\\ipykernel_1188\\1312953281.py:2: FutureWarning: Indexing with multiple keys (implicitly converted to a tuple of keys) will be deprecated, use a list instead.\n",
      "  df_washington = df_washington_c.groupby('city')['carrier_ct','weather_ct','nas_ct','security_ct','late_aircraft_ct'].sum()\n"
     ]
    },
    {
     "data": {
      "text/plain": [
       "Text(0.5, 1.0, 'Penyebab keterlambatan')"
      ]
     },
     "execution_count": 33,
     "metadata": {},
     "output_type": "execute_result"
    },
    {
     "data": {
      "image/png": "[encoded data removed]",
      "text/plain": [
       "<Figure size 432x288 with 1 Axes>"
      ]
     },
     "metadata": {
      "needs_background": "light"
     },
     "output_type": "display_data"
    }
   ],
   "source": [
    "df_washington_c = df[(df['city'] == 'Washington')]\n",
    "df_washington = df_washington_c.groupby('city')['carrier_ct','weather_ct','nas_ct','security_ct','late_aircraft_ct'].sum()\n",
    "df_washington.plot(kind='bar')\n",
    "plt.title('Penyebab keterlambatan')"
   ]
  },
  {
   "cell_type": "markdown",
   "id": "7eff42dd",
   "metadata": {},
   "source": [
    "dari kedua visualisasi diatas terlihat penyebab utama dan keterlambatan paling lama ialah faktor keterlambatan karena penerbangan sebelumnya yang pesawatnya terlambat."
   ]
  },
  {
   "cell_type": "code",
   "execution_count": null,
   "id": "5d48d6fe",
   "metadata": {},
   "outputs": [],
   "source": []
  },
  {
   "cell_type": "code",
   "execution_count": null,
   "id": "2cad30cd",
   "metadata": {},
   "outputs": [],
   "source": []
  }
 ],
 "metadata": {
  "kernelspec": {
   "display_name": "Python 3 (ipykernel)",
   "language": "python",
   "name": "python3"
  },
  "language_info": {
   "codemirror_mode": {
    "name": "ipython",
    "version": 3
   },
   "file_extension": ".py",
   "mimetype": "text/x-python",
   "name": "python",
   "nbconvert_exporter": "python",
   "pygments_lexer": "ipython3",
   "version": "3.9.12"
  }
 },
 "nbformat": 4,
 "nbformat_minor": 5
}
