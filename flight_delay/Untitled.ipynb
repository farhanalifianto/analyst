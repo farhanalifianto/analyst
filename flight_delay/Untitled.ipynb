{
 "cells": [
  {
   "cell_type": "markdown",
   "id": "28bbbf66",
   "metadata": {},
   "source": [
    "## Analisa Penyebab Keterlambatan Pesawat"
   ]
  },
  {
   "cell_type": "markdown",
   "id": "aceec839",
   "metadata": {},
   "source": [
    "Di Notebook ini, kita akan menganalisis data penyebab keterlambatan pesawat berdasarkan waktu, bandara dan maskapai. Data yang diambil berasal dari Kaggle. kita akan mencoba menjawab dari bebebarap pertanyaan berikut:\n",
    "<ul>\n",
    "    <li>kontol</li>\n",
    "<ul>"
   ]
  },
  {
   "cell_type": "markdown",
   "id": "0db0f6e5",
   "metadata": {},
   "source": [
    "#### Import Libraries"
   ]
  },
  {
   "cell_type": "code",
   "execution_count": 9,
   "id": "8a57bc51",
   "metadata": {},
   "outputs": [],
   "source": [
    "import pandas as pd\n",
    "import numpy as np\n",
    "\n",
    "import seaborn as sns\n",
    "import matplotlib.pyplot as plt"
   ]
  },
  {
   "cell_type": "markdown",
   "id": "25abc0fd",
   "metadata": {},
   "source": [
    "#### Data Preparation"
   ]
  },
  {
   "cell_type": "code",
   "execution_count": 10,
   "id": "9c68b4b5",
   "metadata": {},
   "outputs": [],
   "source": [
    "df_airline_delay = pd.read_csv('Airline_Delay_Cause.csv')"
   ]
  },
  {
   "cell_type": "code",
   "execution_count": 11,
   "id": "c55241d7",
   "metadata": {},
   "outputs": [
    {
     "data": {
      "text/html": [
       "<div>\n",
       "<style scoped>\n",
       "    .dataframe tbody tr th:only-of-type {\n",
       "        vertical-align: middle;\n",
       "    }\n",
       "\n",
       "    .dataframe tbody tr th {\n",
       "        vertical-align: top;\n",
       "    }\n",
       "\n",
       "    .dataframe thead th {\n",
       "        text-align: right;\n",
       "    }\n",
       "</style>\n",
       "<table border=\"1\" class=\"dataframe\">\n",
       "  <thead>\n",
       "    <tr style=\"text-align: right;\">\n",
       "      <th></th>\n",
       "      <th>year</th>\n",
       "      <th>month</th>\n",
       "      <th>carrier</th>\n",
       "      <th>carrier_name</th>\n",
       "      <th>airport</th>\n",
       "      <th>airport_name</th>\n",
       "      <th>arr_flights</th>\n",
       "      <th>arr_del15</th>\n",
       "      <th>carrier_ct</th>\n",
       "      <th>weather_ct</th>\n",
       "      <th>...</th>\n",
       "      <th>security_ct</th>\n",
       "      <th>late_aircraft_ct</th>\n",
       "      <th>arr_cancelled</th>\n",
       "      <th>arr_diverted</th>\n",
       "      <th>arr_delay</th>\n",
       "      <th>carrier_delay</th>\n",
       "      <th>weather_delay</th>\n",
       "      <th>nas_delay</th>\n",
       "      <th>security_delay</th>\n",
       "      <th>late_aircraft_delay</th>\n",
       "    </tr>\n",
       "  </thead>\n",
       "  <tbody>\n",
       "    <tr>\n",
       "      <th>0</th>\n",
       "      <td>2022</td>\n",
       "      <td>7</td>\n",
       "      <td>9E</td>\n",
       "      <td>Endeavor Air Inc.</td>\n",
       "      <td>ABE</td>\n",
       "      <td>Allentown/Bethlehem/Easton, PA: Lehigh Valley ...</td>\n",
       "      <td>33.0</td>\n",
       "      <td>2.0</td>\n",
       "      <td>0.92</td>\n",
       "      <td>1.00</td>\n",
       "      <td>...</td>\n",
       "      <td>0.0</td>\n",
       "      <td>0.00</td>\n",
       "      <td>0.0</td>\n",
       "      <td>0.0</td>\n",
       "      <td>129.0</td>\n",
       "      <td>98.0</td>\n",
       "      <td>23.0</td>\n",
       "      <td>8.0</td>\n",
       "      <td>0.0</td>\n",
       "      <td>0.0</td>\n",
       "    </tr>\n",
       "    <tr>\n",
       "      <th>1</th>\n",
       "      <td>2022</td>\n",
       "      <td>7</td>\n",
       "      <td>9E</td>\n",
       "      <td>Endeavor Air Inc.</td>\n",
       "      <td>ABY</td>\n",
       "      <td>Albany, GA: Southwest Georgia Regional</td>\n",
       "      <td>78.0</td>\n",
       "      <td>25.0</td>\n",
       "      <td>11.80</td>\n",
       "      <td>0.72</td>\n",
       "      <td>...</td>\n",
       "      <td>0.0</td>\n",
       "      <td>7.48</td>\n",
       "      <td>0.0</td>\n",
       "      <td>0.0</td>\n",
       "      <td>1664.0</td>\n",
       "      <td>887.0</td>\n",
       "      <td>52.0</td>\n",
       "      <td>224.0</td>\n",
       "      <td>0.0</td>\n",
       "      <td>501.0</td>\n",
       "    </tr>\n",
       "    <tr>\n",
       "      <th>2</th>\n",
       "      <td>2022</td>\n",
       "      <td>7</td>\n",
       "      <td>9E</td>\n",
       "      <td>Endeavor Air Inc.</td>\n",
       "      <td>ACK</td>\n",
       "      <td>Nantucket, MA: Nantucket Memorial</td>\n",
       "      <td>124.0</td>\n",
       "      <td>19.0</td>\n",
       "      <td>5.84</td>\n",
       "      <td>1.00</td>\n",
       "      <td>...</td>\n",
       "      <td>0.0</td>\n",
       "      <td>5.40</td>\n",
       "      <td>5.0</td>\n",
       "      <td>4.0</td>\n",
       "      <td>1523.0</td>\n",
       "      <td>388.0</td>\n",
       "      <td>35.0</td>\n",
       "      <td>511.0</td>\n",
       "      <td>0.0</td>\n",
       "      <td>589.0</td>\n",
       "    </tr>\n",
       "    <tr>\n",
       "      <th>3</th>\n",
       "      <td>2022</td>\n",
       "      <td>7</td>\n",
       "      <td>9E</td>\n",
       "      <td>Endeavor Air Inc.</td>\n",
       "      <td>AEX</td>\n",
       "      <td>Alexandria, LA: Alexandria International</td>\n",
       "      <td>67.0</td>\n",
       "      <td>10.0</td>\n",
       "      <td>1.32</td>\n",
       "      <td>1.00</td>\n",
       "      <td>...</td>\n",
       "      <td>1.0</td>\n",
       "      <td>4.28</td>\n",
       "      <td>0.0</td>\n",
       "      <td>1.0</td>\n",
       "      <td>657.0</td>\n",
       "      <td>103.0</td>\n",
       "      <td>82.0</td>\n",
       "      <td>93.0</td>\n",
       "      <td>25.0</td>\n",
       "      <td>354.0</td>\n",
       "    </tr>\n",
       "    <tr>\n",
       "      <th>4</th>\n",
       "      <td>2022</td>\n",
       "      <td>7</td>\n",
       "      <td>9E</td>\n",
       "      <td>Endeavor Air Inc.</td>\n",
       "      <td>AGS</td>\n",
       "      <td>Augusta, GA: Augusta Regional at Bush Field</td>\n",
       "      <td>174.0</td>\n",
       "      <td>30.0</td>\n",
       "      <td>18.10</td>\n",
       "      <td>5.75</td>\n",
       "      <td>...</td>\n",
       "      <td>0.0</td>\n",
       "      <td>2.55</td>\n",
       "      <td>1.0</td>\n",
       "      <td>0.0</td>\n",
       "      <td>2462.0</td>\n",
       "      <td>1686.0</td>\n",
       "      <td>310.0</td>\n",
       "      <td>139.0</td>\n",
       "      <td>0.0</td>\n",
       "      <td>327.0</td>\n",
       "    </tr>\n",
       "  </tbody>\n",
       "</table>\n",
       "<p>5 rows × 21 columns</p>\n",
       "</div>"
      ],
      "text/plain": [
       "   year  month carrier       carrier_name airport  \\\n",
       "0  2022      7      9E  Endeavor Air Inc.     ABE   \n",
       "1  2022      7      9E  Endeavor Air Inc.     ABY   \n",
       "2  2022      7      9E  Endeavor Air Inc.     ACK   \n",
       "3  2022      7      9E  Endeavor Air Inc.     AEX   \n",
       "4  2022      7      9E  Endeavor Air Inc.     AGS   \n",
       "\n",
       "                                        airport_name  arr_flights  arr_del15  \\\n",
       "0  Allentown/Bethlehem/Easton, PA: Lehigh Valley ...         33.0        2.0   \n",
       "1             Albany, GA: Southwest Georgia Regional         78.0       25.0   \n",
       "2                  Nantucket, MA: Nantucket Memorial        124.0       19.0   \n",
       "3           Alexandria, LA: Alexandria International         67.0       10.0   \n",
       "4        Augusta, GA: Augusta Regional at Bush Field        174.0       30.0   \n",
       "\n",
       "   carrier_ct  weather_ct  ...  security_ct  late_aircraft_ct  arr_cancelled  \\\n",
       "0        0.92        1.00  ...          0.0              0.00            0.0   \n",
       "1       11.80        0.72  ...          0.0              7.48            0.0   \n",
       "2        5.84        1.00  ...          0.0              5.40            5.0   \n",
       "3        1.32        1.00  ...          1.0              4.28            0.0   \n",
       "4       18.10        5.75  ...          0.0              2.55            1.0   \n",
       "\n",
       "   arr_diverted  arr_delay  carrier_delay  weather_delay  nas_delay  \\\n",
       "0           0.0      129.0           98.0           23.0        8.0   \n",
       "1           0.0     1664.0          887.0           52.0      224.0   \n",
       "2           4.0     1523.0          388.0           35.0      511.0   \n",
       "3           1.0      657.0          103.0           82.0       93.0   \n",
       "4           0.0     2462.0         1686.0          310.0      139.0   \n",
       "\n",
       "   security_delay  late_aircraft_delay  \n",
       "0             0.0                  0.0  \n",
       "1             0.0                501.0  \n",
       "2             0.0                589.0  \n",
       "3            25.0                354.0  \n",
       "4             0.0                327.0  \n",
       "\n",
       "[5 rows x 21 columns]"
      ]
     },
     "execution_count": 11,
     "metadata": {},
     "output_type": "execute_result"
    }
   ],
   "source": [
    "df_airline_delay.head()"
   ]
  },
  {
   "cell_type": "code",
   "execution_count": 12,
   "id": "d3e6966d",
   "metadata": {},
   "outputs": [
    {
     "name": "stdout",
     "output_type": "stream",
     "text": [
      "<class 'pandas.core.frame.DataFrame'>\n",
      "RangeIndex: 101315 entries, 0 to 101314\n",
      "Data columns (total 21 columns):\n",
      " #   Column               Non-Null Count   Dtype  \n",
      "---  ------               --------------   -----  \n",
      " 0   year                 101315 non-null  int64  \n",
      " 1   month                101315 non-null  int64  \n",
      " 2   carrier              101315 non-null  object \n",
      " 3   carrier_name         101315 non-null  object \n",
      " 4   airport              101315 non-null  object \n",
      " 5   airport_name         101315 non-null  object \n",
      " 6   arr_flights          101157 non-null  float64\n",
      " 7   arr_del15            100960 non-null  float64\n",
      " 8   carrier_ct           101157 non-null  float64\n",
      " 9   weather_ct           101157 non-null  float64\n",
      " 10  nas_ct               101157 non-null  float64\n",
      " 11  security_ct          101157 non-null  float64\n",
      " 12  late_aircraft_ct     101157 non-null  float64\n",
      " 13  arr_cancelled        101157 non-null  float64\n",
      " 14  arr_diverted         101157 non-null  float64\n",
      " 15  arr_delay            101157 non-null  float64\n",
      " 16  carrier_delay        101157 non-null  float64\n",
      " 17  weather_delay        101157 non-null  float64\n",
      " 18  nas_delay            101157 non-null  float64\n",
      " 19  security_delay       101157 non-null  float64\n",
      " 20  late_aircraft_delay  101157 non-null  float64\n",
      "dtypes: float64(15), int64(2), object(4)\n",
      "memory usage: 16.2+ MB\n"
     ]
    }
   ],
   "source": [
    "df.info()"
   ]
  },
  {
   "cell_type": "markdown",
   "id": "d10515f9",
   "metadata": {},
   "source": [
    "### Informasi Pada Data"
   ]
  },
  {
   "cell_type": "markdown",
   "id": "33c8618e",
   "metadata": {},
   "source": [
    "year = Tahun pada data diambil.\n",
    "month = Bulan pada data diambil.\n",
    "carrier = Kode Maskapai\n",
    "carrier_name = Nama Maskapai.\n",
    "airport = Kode Airport.\n",
    "airport_name = Nama pada Airport.\n",
    "arr_flight = Jumlah pada penerbangan yang tiba di Airport.\n",
    "arr_del15 = Jumlah penerbangan yang terlambat lebih dari 15 menit.\n",
    "carrier_ct = Jumlah penerbangan yang terlambat karena maskapai udara.\n",
    "weather_ct = jumlah Penerbangan yang terlambat karena faktor cuaca.\n",
    "nas_ct = jumlah penerbangan yang terlambat karena National Aviation System (Seperti trafik penerbangan yang tinggi).\n",
    "security_ct = Jumlah penerbang yang terlambat karena melanggar keamanan.\n",
    "late_aircraft_ct = Jumlah penerbangan yang terlambat karena penerbangan yang lain tertunda karena menggunakan pesawat yang sama.\n",
    "arr_canceled = Jumlah penerbangan yang dibatalkan.\n",
    "arr_diverted = Jumlah penerbangan yang dialihkan.\n",
    "arr_delay = Total waktu (Menit) penerbangan yang terlambat.\n",
    "carrier_delay = Total waktu (Menit) keterlambatan karena maskapai.\n",
    "weather_delay = Total waktu (Menit) keterlambatan karena cuaca yang buruk.\n",
    "nas_delay = Total waktu (Menit) keterlambatan karena National Aviation System.\n",
    "security_delay = Total Waktu (Menit) Keterlambatan karena masalah keamanan.\n",
    "late_aircraft_delay = Total waktu (Menit) keterlambatan karena penerbangan sebelumnya dipesawat "
   ]
  },
  {
   "cell_type": "code",
   "execution_count": 15,
   "id": "8616a8f6",
   "metadata": {},
   "outputs": [],
   "source": [
    "pal = sns.color_palette()"
   ]
  },
  {
   "cell_type": "code",
   "execution_count": 19,
   "id": "4ebcc70c",
   "metadata": {},
   "outputs": [
    {
     "data": {
      "text/plain": [
       "Text(0.5, 0, 'Flights')"
      ]
     },
     "execution_count": 19,
     "metadata": {},
     "output_type": "execute_result"
    },
    {
     "data": {
      "image/png": "[encoded data removed]",
      "text/plain": [
       "<Figure size 504x504 with 1 Axes>"
      ]
     },
     "metadata": {
      "needs_background": "light"
     },
     "output_type": "display_data"
    }
   ],
   "source": [
    "#Number of delays in 2017\n",
    "fig, ax = plt.subplots(figsize=(7, 7))\n",
    "df_airline_delay[df_airline_delay.year ==2017].carrier_name.value_counts().plot(kind='bar', grid=True, color=pal[2])\n",
    "ax.set_title(\"Numbers of flights arrived in 2017\")\n",
    "ax.set_xlabel(\"Flights\")"
   ]
  },
  {
   "cell_type": "code",
   "execution_count": 20,
   "id": "ddc488ba",
   "metadata": {},
   "outputs": [
    {
     "data": {
      "text/plain": [
       "Text(0.5, 0, 'Flights')"
      ]
     },
     "execution_count": 20,
     "metadata": {},
     "output_type": "execute_result"
    },
    {
     "data": {
      "image/png": "[encoded data removed]",
      "text/plain": [
       "<Figure size 504x504 with 1 Axes>"
      ]
     },
     "metadata": {
      "needs_background": "light"
     },
     "output_type": "display_data"
    }
   ],
   "source": [
    "#Number of delays in 2019\n",
    "fig, ax = plt.subplots(figsize=(7, 7))\n",
    "df_airline_delay.carrier_name.value_counts().plot(kind='barh', grid=True,color=pal[3])\n",
    "ax.set_title(\"Numbers of flights arrived in 2019\")\n",
    "ax.set_xlabel(\"Flights\")"
   ]
  }
 ],
 "metadata": {
  "kernelspec": {
   "display_name": "Python 3 (ipykernel)",
   "language": "python",
   "name": "python3"
  },
  "language_info": {
   "codemirror_mode": {
    "name": "ipython",
    "version": 3
   },
   "file_extension": ".py",
   "mimetype": "text/x-python",
   "name": "python",
   "nbconvert_exporter": "python",
   "pygments_lexer": "ipython3",
   "version": "3.9.12"
  }
 },
 "nbformat": 4,
 "nbformat_minor": 5
}
